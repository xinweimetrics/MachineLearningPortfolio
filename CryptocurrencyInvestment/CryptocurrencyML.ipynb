{
 "cells": [
  {
   "cell_type": "markdown",
   "metadata": {},
   "source": [
    "# Machine Learning-Based Cryptocurrencies Investment\n",
    "## Xin (Andrew) Wei, PhD Candidate\n",
    "### March 30, 2019\n",
    "Cryptocurrencies serve as a great alternative asset with non-correlated nature to other assets. The dataset includes prices of Bitcoin (BTC) and Ether (ETH) along with predictions received based on machine learning algorithms. Machine learning predictions were based on asking the following question: \"Will a given cryptocurrency go up in the next minute\". The task of this report is to generate a diversified trading or investing strategy outperforming the buy-and-hold strategy within the given timeframe using machine learning time series."
   ]
  },
  {
   "cell_type": "markdown",
   "metadata": {},
   "source": [
    "## Importing Dataset"
   ]
  },
  {
   "cell_type": "code",
   "execution_count": 82,
   "metadata": {},
   "outputs": [],
   "source": [
    "import pandas as pd\n",
    "import numpy as np\n",
    "import matplotlib.pyplot as plt\n",
    "import seaborn as sns"
   ]
  },
  {
   "cell_type": "code",
   "execution_count": 83,
   "metadata": {},
   "outputs": [],
   "source": [
    "df = pd.read_csv(\"./20190322_Sample Data_BRA.csv\", skiprows = 4)\n",
    "df.columns = ['TimeStamp', 'ETH_ClosePrice', 'ETH_Prediction', 'BTC_ClosePrice', 'BTC_Prediction']"
   ]
  },
  {
   "cell_type": "code",
   "execution_count": 84,
   "metadata": {},
   "outputs": [
    {
     "data": {
      "text/html": [
       "<div>\n",
       "<style scoped>\n",
       "    .dataframe tbody tr th:only-of-type {\n",
       "        vertical-align: middle;\n",
       "    }\n",
       "\n",
       "    .dataframe tbody tr th {\n",
       "        vertical-align: top;\n",
       "    }\n",
       "\n",
       "    .dataframe thead th {\n",
       "        text-align: right;\n",
       "    }\n",
       "</style>\n",
       "<table border=\"1\" class=\"dataframe\">\n",
       "  <thead>\n",
       "    <tr style=\"text-align: right;\">\n",
       "      <th></th>\n",
       "      <th>TimeStamp</th>\n",
       "      <th>ETH_ClosePrice</th>\n",
       "      <th>ETH_Prediction</th>\n",
       "      <th>BTC_ClosePrice</th>\n",
       "      <th>BTC_Prediction</th>\n",
       "    </tr>\n",
       "  </thead>\n",
       "  <tbody>\n",
       "    <tr>\n",
       "      <th>0</th>\n",
       "      <td>1530050400</td>\n",
       "      <td>445.27</td>\n",
       "      <td>-0.450034</td>\n",
       "      <td>6233.41</td>\n",
       "      <td>-0.332632</td>\n",
       "    </tr>\n",
       "    <tr>\n",
       "      <th>1</th>\n",
       "      <td>1530050460</td>\n",
       "      <td>445.18</td>\n",
       "      <td>0.037608</td>\n",
       "      <td>6227.92</td>\n",
       "      <td>0.005274</td>\n",
       "    </tr>\n",
       "    <tr>\n",
       "      <th>2</th>\n",
       "      <td>1530050520</td>\n",
       "      <td>444.78</td>\n",
       "      <td>0.070381</td>\n",
       "      <td>6229.12</td>\n",
       "      <td>0.002924</td>\n",
       "    </tr>\n",
       "    <tr>\n",
       "      <th>3</th>\n",
       "      <td>1530050580</td>\n",
       "      <td>444.80</td>\n",
       "      <td>0.013742</td>\n",
       "      <td>6230.02</td>\n",
       "      <td>0.027043</td>\n",
       "    </tr>\n",
       "    <tr>\n",
       "      <th>4</th>\n",
       "      <td>1530050640</td>\n",
       "      <td>442.16</td>\n",
       "      <td>0.000061</td>\n",
       "      <td>6195.23</td>\n",
       "      <td>0.003239</td>\n",
       "    </tr>\n",
       "  </tbody>\n",
       "</table>\n",
       "</div>"
      ],
      "text/plain": [
       "    TimeStamp  ETH_ClosePrice  ETH_Prediction  BTC_ClosePrice  BTC_Prediction\n",
       "0  1530050400          445.27       -0.450034         6233.41       -0.332632\n",
       "1  1530050460          445.18        0.037608         6227.92        0.005274\n",
       "2  1530050520          444.78        0.070381         6229.12        0.002924\n",
       "3  1530050580          444.80        0.013742         6230.02        0.027043\n",
       "4  1530050640          442.16        0.000061         6195.23        0.003239"
      ]
     },
     "execution_count": 84,
     "metadata": {},
     "output_type": "execute_result"
    }
   ],
   "source": [
    "df.head()"
   ]
  },
  {
   "cell_type": "code",
   "execution_count": 85,
   "metadata": {},
   "outputs": [
    {
     "data": {
      "text/html": [
       "<div>\n",
       "<style scoped>\n",
       "    .dataframe tbody tr th:only-of-type {\n",
       "        vertical-align: middle;\n",
       "    }\n",
       "\n",
       "    .dataframe tbody tr th {\n",
       "        vertical-align: top;\n",
       "    }\n",
       "\n",
       "    .dataframe thead th {\n",
       "        text-align: right;\n",
       "    }\n",
       "</style>\n",
       "<table border=\"1\" class=\"dataframe\">\n",
       "  <thead>\n",
       "    <tr style=\"text-align: right;\">\n",
       "      <th></th>\n",
       "      <th>TimeStamp</th>\n",
       "      <th>ETH_ClosePrice</th>\n",
       "      <th>ETH_Prediction</th>\n",
       "      <th>BTC_ClosePrice</th>\n",
       "      <th>BTC_Prediction</th>\n",
       "    </tr>\n",
       "  </thead>\n",
       "  <tbody>\n",
       "    <tr>\n",
       "      <th>284863</th>\n",
       "      <td>1547156520</td>\n",
       "      <td>129.14</td>\n",
       "      <td>-0.487872</td>\n",
       "      <td>3675.92</td>\n",
       "      <td>-0.331991</td>\n",
       "    </tr>\n",
       "    <tr>\n",
       "      <th>284864</th>\n",
       "      <td>1547156580</td>\n",
       "      <td>129.06</td>\n",
       "      <td>-0.487872</td>\n",
       "      <td>3676.41</td>\n",
       "      <td>-0.331991</td>\n",
       "    </tr>\n",
       "    <tr>\n",
       "      <th>284865</th>\n",
       "      <td>1547156640</td>\n",
       "      <td>129.09</td>\n",
       "      <td>-0.487872</td>\n",
       "      <td>3676.70</td>\n",
       "      <td>-0.331991</td>\n",
       "    </tr>\n",
       "    <tr>\n",
       "      <th>284866</th>\n",
       "      <td>1547156700</td>\n",
       "      <td>129.06</td>\n",
       "      <td>-0.487872</td>\n",
       "      <td>3676.19</td>\n",
       "      <td>-0.331991</td>\n",
       "    </tr>\n",
       "    <tr>\n",
       "      <th>284867</th>\n",
       "      <td>1547156760</td>\n",
       "      <td>129.04</td>\n",
       "      <td>-0.487872</td>\n",
       "      <td>3675.93</td>\n",
       "      <td>-0.331991</td>\n",
       "    </tr>\n",
       "  </tbody>\n",
       "</table>\n",
       "</div>"
      ],
      "text/plain": [
       "         TimeStamp  ETH_ClosePrice  ETH_Prediction  BTC_ClosePrice  \\\n",
       "284863  1547156520          129.14       -0.487872         3675.92   \n",
       "284864  1547156580          129.06       -0.487872         3676.41   \n",
       "284865  1547156640          129.09       -0.487872         3676.70   \n",
       "284866  1547156700          129.06       -0.487872         3676.19   \n",
       "284867  1547156760          129.04       -0.487872         3675.93   \n",
       "\n",
       "        BTC_Prediction  \n",
       "284863       -0.331991  \n",
       "284864       -0.331991  \n",
       "284865       -0.331991  \n",
       "284866       -0.331991  \n",
       "284867       -0.331991  "
      ]
     },
     "execution_count": 85,
     "metadata": {},
     "output_type": "execute_result"
    }
   ],
   "source": [
    "df.tail()"
   ]
  },
  {
   "cell_type": "markdown",
   "metadata": {},
   "source": [
    "## Data Cleaning"
   ]
  },
  {
   "cell_type": "code",
   "execution_count": 86,
   "metadata": {},
   "outputs": [
    {
     "data": {
      "text/plain": [
       "TimeStamp          0\n",
       "ETH_ClosePrice     0\n",
       "ETH_Prediction    42\n",
       "BTC_ClosePrice     0\n",
       "BTC_Prediction    42\n",
       "dtype: int64"
      ]
     },
     "execution_count": 86,
     "metadata": {},
     "output_type": "execute_result"
    }
   ],
   "source": [
    "df.isnull().sum()"
   ]
  },
  {
   "cell_type": "code",
   "execution_count": 87,
   "metadata": {},
   "outputs": [],
   "source": [
    "df = df.fillna(0)"
   ]
  },
  {
   "cell_type": "markdown",
   "metadata": {},
   "source": [
    "## Buy-and-Hold Strategy"
   ]
  },
  {
   "cell_type": "code",
   "execution_count": 88,
   "metadata": {},
   "outputs": [
    {
     "data": {
      "image/png": "[encoded data removed]",
      "text/plain": [
       "<Figure size 864x288 with 1 Axes>"
      ]
     },
     "metadata": {},
     "output_type": "display_data"
    },
    {
     "data": {
      "image/png": "[encoded data removed]",
      "text/plain": [
       "<Figure size 864x288 with 1 Axes>"
      ]
     },
     "metadata": {},
     "output_type": "display_data"
    }
   ],
   "source": [
    "# Plot prices\n",
    "sns.set(font = 'monospace')\n",
    "fig1 = df['ETH_ClosePrice'].plot.line(figsize = (12, 4),\n",
    "        title = 'Price Change of ETH')\n",
    "plt.show()\n",
    "fig2 = df['BTC_ClosePrice'].plot.line(figsize = (12, 4),\n",
    "        title = 'Price Change of BTC')\n",
    "plt.show()"
   ]
  },
  {
   "cell_type": "code",
   "execution_count": 89,
   "metadata": {},
   "outputs": [
    {
     "data": {
      "text/plain": [
       "(-0.7101983066454062, -0.41028586279420093)"
      ]
     },
     "execution_count": 89,
     "metadata": {},
     "output_type": "execute_result"
    }
   ],
   "source": [
    "# Calculate the return of buy-and-hold strategy for each asset\n",
    "(df.ETH_ClosePrice[284867] - df.ETH_ClosePrice[0])/df.ETH_ClosePrice[0], (df.BTC_ClosePrice[284867] - df.BTC_ClosePrice[0])/df.BTC_ClosePrice[0]"
   ]
  },
  {
   "cell_type": "markdown",
   "metadata": {},
   "source": [
    "For buy-and-hold strategy, ETH and BTC have return of -71.02% and -41.03%, respectively. Suppose a fund invests evenly in ETH and BTC, the portfolio return based on buy-and-hold strategy is `-56.03%`."
   ]
  },
  {
   "cell_type": "markdown",
   "metadata": {},
   "source": [
    "## ML-Empowered Strategy"
   ]
  },
  {
   "cell_type": "code",
   "execution_count": 90,
   "metadata": {},
   "outputs": [],
   "source": [
    "# Calculate price return & investment return\n",
    "df[['ETH_PriceReturn', 'BTC_PriceReturn']] = df[['ETH_ClosePrice', 'BTC_ClosePrice']].diff().shift(periods=-1) / df[['ETH_ClosePrice', 'BTC_ClosePrice']]\n",
    "df['ETH_Gain'], df['BTC_Gain'] = df['ETH_Prediction'] * df['ETH_ClosePrice'] * df['ETH_PriceReturn'], df['BTC_Prediction'] * df['BTC_ClosePrice'] * df['BTC_PriceReturn']\n",
    "df = df.fillna(0) # fillin last minute return of NaN with 0"
   ]
  },
  {
   "cell_type": "code",
   "execution_count": 91,
   "metadata": {},
   "outputs": [],
   "source": [
    "ETH_Gain, BTC_Gain = 0, 0\n",
    "ETH_LagInvestValue, BTC_LagInvestValue = df['ETH_ClosePrice'].loc[0], df['BTC_ClosePrice'].loc[0]\n",
    "for row in df.itertuples():\n",
    "    df.at[row.Index, 'ETH_InvestValue'], df.at[row.Index, 'BTC_InvestValue'] = ETH_LagInvestValue + ETH_Gain, BTC_LagInvestValue + BTC_Gain\n",
    "    ETH_LagInvestValue, ETH_Gain = df.at[row.Index, 'ETH_InvestValue'], row.ETH_Gain\n",
    "    BTC_LagInvestValue, BTC_Gain = df.at[row.Index, 'BTC_InvestValue'], row.BTC_Gain"
   ]
  },
  {
   "cell_type": "code",
   "execution_count": 92,
   "metadata": {},
   "outputs": [
    {
     "data": {
      "text/html": [
       "<div>\n",
       "<style scoped>\n",
       "    .dataframe tbody tr th:only-of-type {\n",
       "        vertical-align: middle;\n",
       "    }\n",
       "\n",
       "    .dataframe tbody tr th {\n",
       "        vertical-align: top;\n",
       "    }\n",
       "\n",
       "    .dataframe thead th {\n",
       "        text-align: right;\n",
       "    }\n",
       "</style>\n",
       "<table border=\"1\" class=\"dataframe\">\n",
       "  <thead>\n",
       "    <tr style=\"text-align: right;\">\n",
       "      <th></th>\n",
       "      <th>TimeStamp</th>\n",
       "      <th>ETH_ClosePrice</th>\n",
       "      <th>ETH_Prediction</th>\n",
       "      <th>BTC_ClosePrice</th>\n",
       "      <th>BTC_Prediction</th>\n",
       "      <th>ETH_PriceReturn</th>\n",
       "      <th>BTC_PriceReturn</th>\n",
       "      <th>ETH_Gain</th>\n",
       "      <th>BTC_Gain</th>\n",
       "      <th>ETH_InvestValue</th>\n",
       "      <th>BTC_InvestValue</th>\n",
       "    </tr>\n",
       "  </thead>\n",
       "  <tbody>\n",
       "    <tr>\n",
       "      <th>0</th>\n",
       "      <td>1530050400</td>\n",
       "      <td>445.27</td>\n",
       "      <td>-0.450034</td>\n",
       "      <td>6233.41</td>\n",
       "      <td>-0.332632</td>\n",
       "      <td>-0.000202</td>\n",
       "      <td>-0.000881</td>\n",
       "      <td>0.040503</td>\n",
       "      <td>1.826150</td>\n",
       "      <td>445.270000</td>\n",
       "      <td>6233.410000</td>\n",
       "    </tr>\n",
       "    <tr>\n",
       "      <th>1</th>\n",
       "      <td>1530050460</td>\n",
       "      <td>445.18</td>\n",
       "      <td>0.037608</td>\n",
       "      <td>6227.92</td>\n",
       "      <td>0.005274</td>\n",
       "      <td>-0.000899</td>\n",
       "      <td>0.000193</td>\n",
       "      <td>-0.015043</td>\n",
       "      <td>0.006329</td>\n",
       "      <td>445.310503</td>\n",
       "      <td>6235.236150</td>\n",
       "    </tr>\n",
       "    <tr>\n",
       "      <th>2</th>\n",
       "      <td>1530050520</td>\n",
       "      <td>444.78</td>\n",
       "      <td>0.070381</td>\n",
       "      <td>6229.12</td>\n",
       "      <td>0.002924</td>\n",
       "      <td>0.000045</td>\n",
       "      <td>0.000144</td>\n",
       "      <td>0.001408</td>\n",
       "      <td>0.002632</td>\n",
       "      <td>445.295460</td>\n",
       "      <td>6235.242479</td>\n",
       "    </tr>\n",
       "    <tr>\n",
       "      <th>3</th>\n",
       "      <td>1530050580</td>\n",
       "      <td>444.80</td>\n",
       "      <td>0.013742</td>\n",
       "      <td>6230.02</td>\n",
       "      <td>0.027043</td>\n",
       "      <td>-0.005935</td>\n",
       "      <td>-0.005584</td>\n",
       "      <td>-0.036278</td>\n",
       "      <td>-0.940819</td>\n",
       "      <td>445.296867</td>\n",
       "      <td>6235.245111</td>\n",
       "    </tr>\n",
       "    <tr>\n",
       "      <th>4</th>\n",
       "      <td>1530050640</td>\n",
       "      <td>442.16</td>\n",
       "      <td>0.000061</td>\n",
       "      <td>6195.23</td>\n",
       "      <td>0.003239</td>\n",
       "      <td>-0.000498</td>\n",
       "      <td>0.001028</td>\n",
       "      <td>-0.000013</td>\n",
       "      <td>0.020631</td>\n",
       "      <td>445.260589</td>\n",
       "      <td>6234.304292</td>\n",
       "    </tr>\n",
       "  </tbody>\n",
       "</table>\n",
       "</div>"
      ],
      "text/plain": [
       "    TimeStamp  ETH_ClosePrice  ETH_Prediction  BTC_ClosePrice  BTC_Prediction  \\\n",
       "0  1530050400          445.27       -0.450034         6233.41       -0.332632   \n",
       "1  1530050460          445.18        0.037608         6227.92        0.005274   \n",
       "2  1530050520          444.78        0.070381         6229.12        0.002924   \n",
       "3  1530050580          444.80        0.013742         6230.02        0.027043   \n",
       "4  1530050640          442.16        0.000061         6195.23        0.003239   \n",
       "\n",
       "   ETH_PriceReturn  BTC_PriceReturn  ETH_Gain  BTC_Gain  ETH_InvestValue  \\\n",
       "0        -0.000202        -0.000881  0.040503  1.826150       445.270000   \n",
       "1        -0.000899         0.000193 -0.015043  0.006329       445.310503   \n",
       "2         0.000045         0.000144  0.001408  0.002632       445.295460   \n",
       "3        -0.005935        -0.005584 -0.036278 -0.940819       445.296867   \n",
       "4        -0.000498         0.001028 -0.000013  0.020631       445.260589   \n",
       "\n",
       "   BTC_InvestValue  \n",
       "0      6233.410000  \n",
       "1      6235.236150  \n",
       "2      6235.242479  \n",
       "3      6235.245111  \n",
       "4      6234.304292  "
      ]
     },
     "execution_count": 92,
     "metadata": {},
     "output_type": "execute_result"
    }
   ],
   "source": [
    "df.head()"
   ]
  },
  {
   "cell_type": "code",
   "execution_count": 93,
   "metadata": {},
   "outputs": [
    {
     "data": {
      "text/html": [
       "<div>\n",
       "<style scoped>\n",
       "    .dataframe tbody tr th:only-of-type {\n",
       "        vertical-align: middle;\n",
       "    }\n",
       "\n",
       "    .dataframe tbody tr th {\n",
       "        vertical-align: top;\n",
       "    }\n",
       "\n",
       "    .dataframe thead th {\n",
       "        text-align: right;\n",
       "    }\n",
       "</style>\n",
       "<table border=\"1\" class=\"dataframe\">\n",
       "  <thead>\n",
       "    <tr style=\"text-align: right;\">\n",
       "      <th></th>\n",
       "      <th>TimeStamp</th>\n",
       "      <th>ETH_ClosePrice</th>\n",
       "      <th>ETH_Prediction</th>\n",
       "      <th>BTC_ClosePrice</th>\n",
       "      <th>BTC_Prediction</th>\n",
       "      <th>ETH_PriceReturn</th>\n",
       "      <th>BTC_PriceReturn</th>\n",
       "      <th>ETH_Gain</th>\n",
       "      <th>BTC_Gain</th>\n",
       "      <th>ETH_InvestValue</th>\n",
       "      <th>BTC_InvestValue</th>\n",
       "    </tr>\n",
       "  </thead>\n",
       "  <tbody>\n",
       "    <tr>\n",
       "      <th>284863</th>\n",
       "      <td>1547156520</td>\n",
       "      <td>129.14</td>\n",
       "      <td>-0.487872</td>\n",
       "      <td>3675.92</td>\n",
       "      <td>-0.331991</td>\n",
       "      <td>-0.000619</td>\n",
       "      <td>0.000133</td>\n",
       "      <td>0.039030</td>\n",
       "      <td>-0.162676</td>\n",
       "      <td>452.601723</td>\n",
       "      <td>4928.389695</td>\n",
       "    </tr>\n",
       "    <tr>\n",
       "      <th>284864</th>\n",
       "      <td>1547156580</td>\n",
       "      <td>129.06</td>\n",
       "      <td>-0.487872</td>\n",
       "      <td>3676.41</td>\n",
       "      <td>-0.331991</td>\n",
       "      <td>0.000232</td>\n",
       "      <td>0.000079</td>\n",
       "      <td>-0.014636</td>\n",
       "      <td>-0.096277</td>\n",
       "      <td>452.640753</td>\n",
       "      <td>4928.227019</td>\n",
       "    </tr>\n",
       "    <tr>\n",
       "      <th>284865</th>\n",
       "      <td>1547156640</td>\n",
       "      <td>129.09</td>\n",
       "      <td>-0.487872</td>\n",
       "      <td>3676.70</td>\n",
       "      <td>-0.331991</td>\n",
       "      <td>-0.000232</td>\n",
       "      <td>-0.000139</td>\n",
       "      <td>0.014636</td>\n",
       "      <td>0.169315</td>\n",
       "      <td>452.626117</td>\n",
       "      <td>4928.130742</td>\n",
       "    </tr>\n",
       "    <tr>\n",
       "      <th>284866</th>\n",
       "      <td>1547156700</td>\n",
       "      <td>129.06</td>\n",
       "      <td>-0.487872</td>\n",
       "      <td>3676.19</td>\n",
       "      <td>-0.331991</td>\n",
       "      <td>-0.000155</td>\n",
       "      <td>-0.000071</td>\n",
       "      <td>0.009757</td>\n",
       "      <td>0.086318</td>\n",
       "      <td>452.640753</td>\n",
       "      <td>4928.300057</td>\n",
       "    </tr>\n",
       "    <tr>\n",
       "      <th>284867</th>\n",
       "      <td>1547156760</td>\n",
       "      <td>129.04</td>\n",
       "      <td>-0.487872</td>\n",
       "      <td>3675.93</td>\n",
       "      <td>-0.331991</td>\n",
       "      <td>0.000000</td>\n",
       "      <td>0.000000</td>\n",
       "      <td>0.000000</td>\n",
       "      <td>0.000000</td>\n",
       "      <td>452.650510</td>\n",
       "      <td>4928.386375</td>\n",
       "    </tr>\n",
       "  </tbody>\n",
       "</table>\n",
       "</div>"
      ],
      "text/plain": [
       "         TimeStamp  ETH_ClosePrice  ETH_Prediction  BTC_ClosePrice  \\\n",
       "284863  1547156520          129.14       -0.487872         3675.92   \n",
       "284864  1547156580          129.06       -0.487872         3676.41   \n",
       "284865  1547156640          129.09       -0.487872         3676.70   \n",
       "284866  1547156700          129.06       -0.487872         3676.19   \n",
       "284867  1547156760          129.04       -0.487872         3675.93   \n",
       "\n",
       "        BTC_Prediction  ETH_PriceReturn  BTC_PriceReturn  ETH_Gain  BTC_Gain  \\\n",
       "284863       -0.331991        -0.000619         0.000133  0.039030 -0.162676   \n",
       "284864       -0.331991         0.000232         0.000079 -0.014636 -0.096277   \n",
       "284865       -0.331991        -0.000232        -0.000139  0.014636  0.169315   \n",
       "284866       -0.331991        -0.000155        -0.000071  0.009757  0.086318   \n",
       "284867       -0.331991         0.000000         0.000000  0.000000  0.000000   \n",
       "\n",
       "        ETH_InvestValue  BTC_InvestValue  \n",
       "284863       452.601723      4928.389695  \n",
       "284864       452.640753      4928.227019  \n",
       "284865       452.626117      4928.130742  \n",
       "284866       452.640753      4928.300057  \n",
       "284867       452.650510      4928.386375  "
      ]
     },
     "execution_count": 93,
     "metadata": {},
     "output_type": "execute_result"
    }
   ],
   "source": [
    "df.tail()"
   ]
  },
  {
   "cell_type": "code",
   "execution_count": 94,
   "metadata": {},
   "outputs": [
    {
     "data": {
      "text/plain": [
       "(0.016575359202480856, -0.20935950388223826)"
      ]
     },
     "execution_count": 94,
     "metadata": {},
     "output_type": "execute_result"
    }
   ],
   "source": [
    "(df['ETH_InvestValue'].iloc[-1] - df['ETH_InvestValue'].iloc[0]) / df['ETH_InvestValue'].iloc[0], (df['BTC_InvestValue'].iloc[-1] - df['BTC_InvestValue'].iloc[0]) / df['BTC_InvestValue'].iloc[0]"
   ]
  },
  {
   "cell_type": "markdown",
   "metadata": {},
   "source": [
    "My strategy results in 1.66% and -20.94% return for ETH and BTC, outperforming the buy-and-hold strategy of -71.02% and -41.03% return. Suppose a diversified fund investing evenly in ETH and BTC, the portfolio return based on my ML-empowered strategy is `-9.64%`, outperforming the buy-and-hold strategy return of `-56.03%`."
   ]
  }
 ],
 "metadata": {
  "kernelspec": {
   "display_name": "Python 3",
   "language": "python",
   "name": "python3"
  },
  "language_info": {
   "codemirror_mode": {
    "name": "ipython",
    "version": 3
   },
   "file_extension": ".py",
   "mimetype": "text/x-python",
   "name": "python",
   "nbconvert_exporter": "python",
   "pygments_lexer": "ipython3",
   "version": "3.6.5"
  }
 },
 "nbformat": 4,
 "nbformat_minor": 2
}
