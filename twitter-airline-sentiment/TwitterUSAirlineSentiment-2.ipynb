{
 "cells": [
  {
   "cell_type": "markdown",
   "metadata": {},
   "source": [
    "# Twitter US Airline Sentiment - Part II: Building Models\n",
    "## Xin (Andrew) Wei, PhD Candidate\n",
    "### March 21, 2019\n",
    "-  This part builds deep learning / machine learning models (ULMFiT and Logistic Regression) to analyze travelers' feelings based on their posted tweet texts, and compare results from different models\n",
    "-  Main tools used: Python 3, Pandas, REs, NLTK, Scikit-Learn, fastai"
   ]
  },
  {
   "cell_type": "markdown",
   "metadata": {},
   "source": [
    "## Importing Dataset"
   ]
  },
  {
   "cell_type": "code",
   "execution_count": 1125,
   "metadata": {},
   "outputs": [],
   "source": [
    "import pandas as pd\n",
    "pd.set_option('display.max_colwidth', -1)\n",
    "pd.set_option('display.max_rows', 100)"
   ]
  },
  {
   "cell_type": "code",
   "execution_count": 1450,
   "metadata": {},
   "outputs": [],
   "source": [
    "df = pd.read_csv(\"./Tweets.csv\")\n",
    "df = df[['text', 'airline_sentiment']]"
   ]
  },
  {
   "cell_type": "code",
   "execution_count": 1204,
   "metadata": {},
   "outputs": [
    {
     "data": {
      "text/html": [
       "<div>\n",
       "<style scoped>\n",
       "    .dataframe tbody tr th:only-of-type {\n",
       "        vertical-align: middle;\n",
       "    }\n",
       "\n",
       "    .dataframe tbody tr th {\n",
       "        vertical-align: top;\n",
       "    }\n",
       "\n",
       "    .dataframe thead th {\n",
       "        text-align: right;\n",
       "    }\n",
       "</style>\n",
       "<table border=\"1\" class=\"dataframe\">\n",
       "  <thead>\n",
       "    <tr style=\"text-align: right;\">\n",
       "      <th></th>\n",
       "      <th>text</th>\n",
       "      <th>airline_sentiment</th>\n",
       "    </tr>\n",
       "  </thead>\n",
       "  <tbody>\n",
       "    <tr>\n",
       "      <th>0</th>\n",
       "      <td>@VirginAmerica What @dhepburn said.</td>\n",
       "      <td>neutral</td>\n",
       "    </tr>\n",
       "    <tr>\n",
       "      <th>1</th>\n",
       "      <td>@VirginAmerica plus you've added commercials to the experience... tacky.</td>\n",
       "      <td>positive</td>\n",
       "    </tr>\n",
       "    <tr>\n",
       "      <th>2</th>\n",
       "      <td>@VirginAmerica I didn't today... Must mean I need to take another trip!</td>\n",
       "      <td>neutral</td>\n",
       "    </tr>\n",
       "    <tr>\n",
       "      <th>3</th>\n",
       "      <td>@VirginAmerica it's really aggressive to blast obnoxious \"entertainment\" in your guests' faces &amp;amp; they have little recourse</td>\n",
       "      <td>negative</td>\n",
       "    </tr>\n",
       "    <tr>\n",
       "      <th>4</th>\n",
       "      <td>@VirginAmerica and it's a really big bad thing about it</td>\n",
       "      <td>negative</td>\n",
       "    </tr>\n",
       "    <tr>\n",
       "      <th>5</th>\n",
       "      <td>@VirginAmerica seriously would pay $30 a flight for seats that didn't have this playing.\\nit's really the only bad thing about flying VA</td>\n",
       "      <td>negative</td>\n",
       "    </tr>\n",
       "    <tr>\n",
       "      <th>6</th>\n",
       "      <td>@VirginAmerica yes, nearly every time I fly VX this “ear worm” won’t go away :)</td>\n",
       "      <td>positive</td>\n",
       "    </tr>\n",
       "    <tr>\n",
       "      <th>7</th>\n",
       "      <td>@VirginAmerica Really missed a prime opportunity for Men Without Hats parody, there. https://t.co/mWpG7grEZP</td>\n",
       "      <td>neutral</td>\n",
       "    </tr>\n",
       "    <tr>\n",
       "      <th>8</th>\n",
       "      <td>@virginamerica Well, I didn't…but NOW I DO! :-D</td>\n",
       "      <td>positive</td>\n",
       "    </tr>\n",
       "    <tr>\n",
       "      <th>9</th>\n",
       "      <td>@VirginAmerica it was amazing, and arrived an hour early. You're too good to me.</td>\n",
       "      <td>positive</td>\n",
       "    </tr>\n",
       "  </tbody>\n",
       "</table>\n",
       "</div>"
      ],
      "text/plain": [
       "                                                                                                                                       text  \\\n",
       "0  @VirginAmerica What @dhepburn said.                                                                                                        \n",
       "1  @VirginAmerica plus you've added commercials to the experience... tacky.                                                                   \n",
       "2  @VirginAmerica I didn't today... Must mean I need to take another trip!                                                                    \n",
       "3  @VirginAmerica it's really aggressive to blast obnoxious \"entertainment\" in your guests' faces &amp; they have little recourse             \n",
       "4  @VirginAmerica and it's a really big bad thing about it                                                                                    \n",
       "5  @VirginAmerica seriously would pay $30 a flight for seats that didn't have this playing.\\nit's really the only bad thing about flying VA   \n",
       "6  @VirginAmerica yes, nearly every time I fly VX this “ear worm” won’t go away :)                                                            \n",
       "7  @VirginAmerica Really missed a prime opportunity for Men Without Hats parody, there. https://t.co/mWpG7grEZP                               \n",
       "8  @virginamerica Well, I didn't…but NOW I DO! :-D                                                                                            \n",
       "9  @VirginAmerica it was amazing, and arrived an hour early. You're too good to me.                                                           \n",
       "\n",
       "  airline_sentiment  \n",
       "0  neutral           \n",
       "1  positive          \n",
       "2  neutral           \n",
       "3  negative          \n",
       "4  negative          \n",
       "5  negative          \n",
       "6  positive          \n",
       "7  neutral           \n",
       "8  positive          \n",
       "9  positive          "
      ]
     },
     "execution_count": 1204,
     "metadata": {},
     "output_type": "execute_result"
    }
   ],
   "source": [
    "df.head(n=10)"
   ]
  },
  {
   "cell_type": "code",
   "execution_count": 1203,
   "metadata": {},
   "outputs": [
    {
     "data": {
      "text/html": [
       "<div>\n",
       "<style scoped>\n",
       "    .dataframe tbody tr th:only-of-type {\n",
       "        vertical-align: middle;\n",
       "    }\n",
       "\n",
       "    .dataframe tbody tr th {\n",
       "        vertical-align: top;\n",
       "    }\n",
       "\n",
       "    .dataframe thead th {\n",
       "        text-align: right;\n",
       "    }\n",
       "</style>\n",
       "<table border=\"1\" class=\"dataframe\">\n",
       "  <thead>\n",
       "    <tr style=\"text-align: right;\">\n",
       "      <th></th>\n",
       "      <th>text</th>\n",
       "      <th>airline_sentiment</th>\n",
       "    </tr>\n",
       "  </thead>\n",
       "  <tbody>\n",
       "    <tr>\n",
       "      <th>14630</th>\n",
       "      <td>@AmericanAir Thanks! He is.</td>\n",
       "      <td>positive</td>\n",
       "    </tr>\n",
       "    <tr>\n",
       "      <th>14631</th>\n",
       "      <td>@AmericanAir thx for nothing on getting us out of the country and back to US. Broken plane? Come on. Get another one.</td>\n",
       "      <td>negative</td>\n",
       "    </tr>\n",
       "    <tr>\n",
       "      <th>14632</th>\n",
       "      <td>“@AmericanAir: @TilleyMonsta George, that doesn't look good. Please follow this link to start the refund process: http://t.co/4gr39s91Dl”😂</td>\n",
       "      <td>neutral</td>\n",
       "    </tr>\n",
       "    <tr>\n",
       "      <th>14633</th>\n",
       "      <td>@AmericanAir my flight was Cancelled Flightled, leaving tomorrow morning. Auto rebooked for a Tuesday night flight but need to arrive Monday.</td>\n",
       "      <td>negative</td>\n",
       "    </tr>\n",
       "    <tr>\n",
       "      <th>14634</th>\n",
       "      <td>@AmericanAir right on cue with the delays👌</td>\n",
       "      <td>negative</td>\n",
       "    </tr>\n",
       "    <tr>\n",
       "      <th>14635</th>\n",
       "      <td>@AmericanAir thank you we got on a different flight to Chicago.</td>\n",
       "      <td>positive</td>\n",
       "    </tr>\n",
       "    <tr>\n",
       "      <th>14636</th>\n",
       "      <td>@AmericanAir leaving over 20 minutes Late Flight. No warnings or communication until we were 15 minutes Late Flight. That's called shitty customer svc</td>\n",
       "      <td>negative</td>\n",
       "    </tr>\n",
       "    <tr>\n",
       "      <th>14637</th>\n",
       "      <td>@AmericanAir Please bring American Airlines to #BlackBerry10</td>\n",
       "      <td>neutral</td>\n",
       "    </tr>\n",
       "    <tr>\n",
       "      <th>14638</th>\n",
       "      <td>@AmericanAir you have my money, you change my flight, and don't answer your phones! Any other suggestions so I can make my commitment??</td>\n",
       "      <td>negative</td>\n",
       "    </tr>\n",
       "    <tr>\n",
       "      <th>14639</th>\n",
       "      <td>@AmericanAir we have 8 ppl so we need 2 know how many seats are on the next flight. Plz put us on standby for 4 people on the next flight?</td>\n",
       "      <td>neutral</td>\n",
       "    </tr>\n",
       "  </tbody>\n",
       "</table>\n",
       "</div>"
      ],
      "text/plain": [
       "                                                                                                                                                         text  \\\n",
       "14630  @AmericanAir Thanks! He is.                                                                                                                              \n",
       "14631  @AmericanAir thx for nothing on getting us out of the country and back to US. Broken plane? Come on. Get another one.                                    \n",
       "14632  “@AmericanAir: @TilleyMonsta George, that doesn't look good. Please follow this link to start the refund process: http://t.co/4gr39s91Dl”😂               \n",
       "14633  @AmericanAir my flight was Cancelled Flightled, leaving tomorrow morning. Auto rebooked for a Tuesday night flight but need to arrive Monday.            \n",
       "14634  @AmericanAir right on cue with the delays👌                                                                                                               \n",
       "14635  @AmericanAir thank you we got on a different flight to Chicago.                                                                                          \n",
       "14636  @AmericanAir leaving over 20 minutes Late Flight. No warnings or communication until we were 15 minutes Late Flight. That's called shitty customer svc   \n",
       "14637  @AmericanAir Please bring American Airlines to #BlackBerry10                                                                                             \n",
       "14638  @AmericanAir you have my money, you change my flight, and don't answer your phones! Any other suggestions so I can make my commitment??                  \n",
       "14639  @AmericanAir we have 8 ppl so we need 2 know how many seats are on the next flight. Plz put us on standby for 4 people on the next flight?               \n",
       "\n",
       "      airline_sentiment  \n",
       "14630  positive          \n",
       "14631  negative          \n",
       "14632  neutral           \n",
       "14633  negative          \n",
       "14634  negative          \n",
       "14635  positive          \n",
       "14636  negative          \n",
       "14637  neutral           \n",
       "14638  negative          \n",
       "14639  neutral           "
      ]
     },
     "execution_count": 1203,
     "metadata": {},
     "output_type": "execute_result"
    }
   ],
   "source": [
    "df.tail(n=10)"
   ]
  },
  {
   "cell_type": "markdown",
   "metadata": {},
   "source": [
    "From the text column, we see that tweets mainly contain words, digits, punctuations, mentions (start with @ symbol), URLs (start with http), emojis, and emoticons. I will preprocess each kind of them respectively before extracting features from the tweets."
   ]
  },
  {
   "cell_type": "markdown",
   "metadata": {},
   "source": [
    "## Data Preprocessing"
   ]
  },
  {
   "cell_type": "code",
   "execution_count": 1205,
   "metadata": {},
   "outputs": [],
   "source": [
    "import re\n",
    "import nltk\n",
    "# nltk.download('stopwords')\n",
    "# nltk.download('wordnet')\n",
    "from nltk.corpus import stopwords\n",
    "from nltk.stem import PorterStemmer\n",
    "from nltk.stem import WordNetLemmatizer\n",
    "import string\n",
    "import emoji"
   ]
  },
  {
   "cell_type": "code",
   "execution_count": 1227,
   "metadata": {},
   "outputs": [],
   "source": [
    "def multiple_replace(dic, text):\n",
    "    \"\"\" Replace in 'text' all occurrences of any key in the given\n",
    "    dictionary by its corresponding value. Return the new string.\n",
    "    \n",
    "    dic: dictionary, with keys to be replaced and values as replacements\n",
    "    text: string, matched pattern will be replaced\n",
    "    return: string, new string after replacement\n",
    "    \"\"\" \n",
    "    pattern = '(%s)' % '|'.join(map(re.escape, dic.keys()))\n",
    "    return re.sub(pattern, lambda match: dic[match.group()], text)"
   ]
  },
  {
   "cell_type": "code",
   "execution_count": 1451,
   "metadata": {},
   "outputs": [],
   "source": [
    "class textPreprocessing:\n",
    "    \"\"\" Preprocess the raw text to obtain cleaned text which will be used for feature extraction.\n",
    "    \"\"\"\n",
    "    def emoji_towords(self, text):\n",
    "        # demojize emojis & insert spaces to separate emojis apart\n",
    "        demojized = re.sub(r'[:️:]([\\w\\-\\_]+)[:️:]', r' \\1 ', emoji.demojize(text))\n",
    "        demojized = re.sub('[-_]', '', demojized) # remove '-', '_' so that words in emojis are concatenated\n",
    "        # replace common emoticons with words & insert spaces\n",
    "        emoticon = dict.fromkeys([':)', ':-)', ';)', ';-)', ':-D', ':D', ';p'], ' smileyface ')\n",
    "        emoticon.update(dict.fromkeys([':(', ':-(', ';(', ';-(', \":'(\"], ' sadface '))\n",
    "        return multiple_replace(emoticon, demojized)\n",
    "    \n",
    "    def remove_urls(self, text):\n",
    "        return re.sub(r'https?://[^\\s]+', ' ', text)\n",
    "    \n",
    "    def remove_digits(self, text):\n",
    "        return re.sub(r'[\\d]+', ' ', text)\n",
    "    \n",
    "    def remove_punctuation(self, text):\n",
    "        puncts = list(string.punctuation) + ['“', '”']\n",
    "        # I think these three punctuations might indicate sentiments, so I keep them in the whitelist.\n",
    "        whitelist = ['!', '?', '$']\n",
    "        puncts = ''.join([punc for punc in puncts if punc not in whitelist])\n",
    "        sub = str.maketrans(puncts, ' '*len(puncts))\n",
    "        punct_removed = text.translate(sub)\n",
    "        return re.sub('([!?$])', r' \\1 ', punct_removed) # insert spaces to make each !,?,$ as separate token\n",
    "    \n",
    "    def to_lower(self, text):\n",
    "        return text.lower()\n",
    "    \n",
    "    def remove_stopwords(self, text): # disable this improves 1~2% accuracy\n",
    "        domainlist = ['flight', 'plane', 'airline', 'travel', 'american', 'airport', 'air', 'aircraft', 'jet', 'twitter']\n",
    "        # domainlist = []\n",
    "        stopwords_list = stopwords.words('english') + domainlist\n",
    "        # In my opinion, the following words might indicate certain sentiments, so I keep them via a whitelist.\n",
    "        whitelist = [\"n't\", 'not', 'no', 'but', 'after', 'before', 'when', 'why']\n",
    "        words = text.split() \n",
    "        meaningful_words = [word for word in words if (word not in stopwords_list or word in whitelist)] \n",
    "        return ' '.join(meaningful_words) \n",
    "    \n",
    "    def stemming(self, text):\n",
    "        porter = PorterStemmer()\n",
    "        words = text.split()\n",
    "        stemmed = [porter.stem(word) for word in words]\n",
    "        return ' '.join(stemmed)\n",
    "    \n",
    "    def lemmatize(self, text):\n",
    "        lemmatizer = WordNetLemmatizer()\n",
    "        words = text.split()\n",
    "        lemmatized = [lemmatizer.lemmatize(word) for word in words]\n",
    "        return ' '.join(lemmatized)\n",
    "\n",
    "    def apply_all(self, text): # to be used for logistic regression and random forest model\n",
    "        return text.apply(self.emoji_towords)\\\n",
    "                   .apply(self.remove_urls)\\\n",
    "                   .apply(self.remove_digits)\\\n",
    "                   .apply(self.remove_punctuation)\\\n",
    "                   .apply(self.to_lower)\\\n",
    "                   .apply(self.lemmatize) # apply either stemming or lemmatize\n",
    "    \n",
    "    def apply_ulmfit(self, text): # to be used for ULMFiT model\n",
    "        # remove_punctuation & stemming/lemmatize are not applied because ULMFiT model needs to train language model\n",
    "        # which captures the sequential relationship between words.\n",
    "        return text.apply(self.emoji_towords)\\\n",
    "                   .apply(self.remove_urls)\\\n",
    "                   .apply(self.remove_digits)\\\n",
    "                   .apply(self.to_lower)"
   ]
  },
  {
   "cell_type": "code",
   "execution_count": 1353,
   "metadata": {},
   "outputs": [],
   "source": [
    "cleantext = textPreprocessing()\n",
    "df['text_cleaned'] = cleantext.apply_all(df['text'])"
   ]
  },
  {
   "cell_type": "code",
   "execution_count": 1234,
   "metadata": {},
   "outputs": [
    {
     "data": {
      "text/html": [
       "<div>\n",
       "<style scoped>\n",
       "    .dataframe tbody tr th:only-of-type {\n",
       "        vertical-align: middle;\n",
       "    }\n",
       "\n",
       "    .dataframe tbody tr th {\n",
       "        vertical-align: top;\n",
       "    }\n",
       "\n",
       "    .dataframe thead th {\n",
       "        text-align: right;\n",
       "    }\n",
       "</style>\n",
       "<table border=\"1\" class=\"dataframe\">\n",
       "  <thead>\n",
       "    <tr style=\"text-align: right;\">\n",
       "      <th></th>\n",
       "      <th>text</th>\n",
       "      <th>airline_sentiment</th>\n",
       "      <th>text_cleaned</th>\n",
       "    </tr>\n",
       "  </thead>\n",
       "  <tbody>\n",
       "    <tr>\n",
       "      <th>0</th>\n",
       "      <td>@VirginAmerica What @dhepburn said.</td>\n",
       "      <td>neutral</td>\n",
       "      <td>virginamerica dhepburn said</td>\n",
       "    </tr>\n",
       "    <tr>\n",
       "      <th>1</th>\n",
       "      <td>@VirginAmerica plus you've added commercials to the experience... tacky.</td>\n",
       "      <td>positive</td>\n",
       "      <td>virginamerica plus added commercial experience tacky</td>\n",
       "    </tr>\n",
       "    <tr>\n",
       "      <th>2</th>\n",
       "      <td>@VirginAmerica I didn't today... Must mean I need to take another trip!</td>\n",
       "      <td>neutral</td>\n",
       "      <td>virginamerica today must mean need take another trip !</td>\n",
       "    </tr>\n",
       "    <tr>\n",
       "      <th>3</th>\n",
       "      <td>@VirginAmerica it's really aggressive to blast obnoxious \"entertainment\" in your guests' faces &amp;amp; they have little recourse</td>\n",
       "      <td>negative</td>\n",
       "      <td>virginamerica really aggressive blast obnoxious entertainment guest face amp little recourse</td>\n",
       "    </tr>\n",
       "    <tr>\n",
       "      <th>4</th>\n",
       "      <td>@VirginAmerica and it's a really big bad thing about it</td>\n",
       "      <td>negative</td>\n",
       "      <td>virginamerica really big bad thing</td>\n",
       "    </tr>\n",
       "  </tbody>\n",
       "</table>\n",
       "</div>"
      ],
      "text/plain": [
       "                                                                                                                             text  \\\n",
       "0  @VirginAmerica What @dhepburn said.                                                                                              \n",
       "1  @VirginAmerica plus you've added commercials to the experience... tacky.                                                         \n",
       "2  @VirginAmerica I didn't today... Must mean I need to take another trip!                                                          \n",
       "3  @VirginAmerica it's really aggressive to blast obnoxious \"entertainment\" in your guests' faces &amp; they have little recourse   \n",
       "4  @VirginAmerica and it's a really big bad thing about it                                                                          \n",
       "\n",
       "  airline_sentiment  \\\n",
       "0  neutral            \n",
       "1  positive           \n",
       "2  neutral            \n",
       "3  negative           \n",
       "4  negative           \n",
       "\n",
       "                                                                                   text_cleaned  \n",
       "0  virginamerica dhepburn said                                                                   \n",
       "1  virginamerica plus added commercial experience tacky                                          \n",
       "2  virginamerica today must mean need take another trip !                                        \n",
       "3  virginamerica really aggressive blast obnoxious entertainment guest face amp little recourse  \n",
       "4  virginamerica really big bad thing                                                            "
      ]
     },
     "execution_count": 1234,
     "metadata": {},
     "output_type": "execute_result"
    }
   ],
   "source": [
    "df.head()"
   ]
  },
  {
   "cell_type": "code",
   "execution_count": 1277,
   "metadata": {},
   "outputs": [],
   "source": [
    "import sklearn\n",
    "from sklearn.cross_validation import train_test_split"
   ]
  },
  {
   "cell_type": "code",
   "execution_count": 1354,
   "metadata": {},
   "outputs": [],
   "source": [
    "## Split dataset into train/test subsets\n",
    "text_train, text_test, y_train, y_test = train_test_split(df['text_cleaned'], df['airline_sentiment'], \n",
    "                                                          test_size = 0.1, random_state = 1) # 0.1 creates better accuracy\n",
    "# Transform texts into a list of tweets to be used later\n",
    "tweet_train, tweet_test = list(text_train), list(text_test)"
   ]
  },
  {
   "cell_type": "markdown",
   "metadata": {},
   "source": [
    "## Feature Extraction & Model Training"
   ]
  },
  {
   "cell_type": "code",
   "execution_count": 1261,
   "metadata": {},
   "outputs": [],
   "source": [
    "from sklearn.pipeline import Pipeline\n",
    "from sklearn.feature_extraction.text import CountVectorizer, TfidfVectorizer\n",
    "from sklearn.linear_model import LogisticRegression\n",
    "from sklearn.model_selection import GridSearchCV\n",
    "from sklearn.metrics import classification_report\n",
    "from pprint import pprint\n",
    "from time import time"
   ]
  },
  {
   "cell_type": "code",
   "execution_count": 1363,
   "metadata": {},
   "outputs": [],
   "source": [
    "def trainer(vect, clf, parameters, text_train, y_train, text_test, y_test):\n",
    "    \"\"\"Build pipeline for feature extraction, model training, and evaluation.\n",
    "    \n",
    "    vect: type Vectorizer, which convert text documents to a matrix of token counts\n",
    "    clf: type Classifier\n",
    "    parameters: type dictionary, with keys of vect/clf parameters and values of grids\n",
    "    text_train and text_test: array-like, shape = [n_samples, n_features]. each sample is a string\n",
    "    y_train and y_test: array-like, shape = [n_samples]\n",
    "    return: grid_search, contains results as its attributes available to users\n",
    "    \"\"\"\n",
    "    \n",
    "    # Define a pipeline combining a text feature extractor with a simple classifier\n",
    "    pipeline = Pipeline([\n",
    "           ('vect', vect),\n",
    "           ('clf', clf),\n",
    "    ])\n",
    "\n",
    "    # Find the best parameters for both the feature extraction and the classifier\n",
    "    grid_search = GridSearchCV(pipeline, parameters, cv=5, n_jobs=-1, verbose=0)\n",
    "\n",
    "    print('Performing grid search...')\n",
    "    print(\"pipeline:\", [name for name, _ in pipeline.steps])\n",
    "    print(\"parameters:\")\n",
    "    pprint(parameters)\n",
    "    t0 = time()\n",
    "    grid_search.fit(text_train, y_train)\n",
    "    print(\"done in %0.3fs\" % (time() - t0))\n",
    "    print()\n",
    "    \n",
    "    print(\"Best parameters set:\")\n",
    "    best_parameters = grid_search.best_estimator_.get_params()\n",
    "    for param_name in sorted(parameters.keys()):\n",
    "        print(\"\\t%s: %r\" % (param_name, best_parameters[param_name]))\n",
    "        \n",
    "    print(\"Test set accuracy with best estimator: %0.3f\" % grid_search.best_estimator_.score(text_test, y_test))\n",
    "    print()\n",
    "    \n",
    "    print(\"Test Set Classification Report:\")\n",
    "    print(classification_report(y_test, grid_search.best_estimator_.predict(text_test)))\n",
    "    print(\"Train Set Classification Report:\")\n",
    "    print(classification_report(y_train, grid_search.best_estimator_.predict(text_train)))   \n",
    "    return grid_search"
   ]
  },
  {
   "cell_type": "markdown",
   "metadata": {},
   "source": [
    "### Logistic Regression Model"
   ]
  },
  {
   "cell_type": "code",
   "execution_count": 1364,
   "metadata": {},
   "outputs": [
    {
     "name": "stdout",
     "output_type": "stream",
     "text": [
      "Performing grid search...\n",
      "pipeline: ['vect', 'clf']\n",
      "parameters:\n",
      "{'clf__C': array([0.2 , 0.21, 0.22, 0.23, 0.24, 0.25]),\n",
      " 'vect__min_df': (2, 3),\n",
      " 'vect__ngram_range': ((1, 1), (1, 2))}\n",
      "done in 146.217s\n",
      "\n",
      "Best parameters set:\n",
      "\tclf__C: 0.22\n",
      "\tvect__min_df: 2\n",
      "\tvect__ngram_range: (1, 2)\n",
      "Test set accuracy with best estimator: 0.827\n",
      "\n",
      "Test Set Classification Report:\n",
      "             precision    recall  f1-score   support\n",
      "\n",
      "   negative       0.87      0.91      0.89       932\n",
      "    neutral       0.67      0.67      0.67       302\n",
      "   positive       0.83      0.70      0.76       230\n",
      "\n",
      "avg / total       0.83      0.83      0.83      1464\n",
      "\n",
      "Train Set Classification Report:\n",
      "             precision    recall  f1-score   support\n",
      "\n",
      "   negative       0.97      0.98      0.98      8246\n",
      "    neutral       0.93      0.91      0.92      2797\n",
      "   positive       0.95      0.93      0.94      2133\n",
      "\n",
      "avg / total       0.96      0.96      0.96     13176\n",
      "\n"
     ]
    }
   ],
   "source": [
    "vect = CountVectorizer(token_pattern=r\"[!\\?\\$\\w]+\")\n",
    "clf = LogisticRegression(random_state = 1, solver='newton-cg', multi_class='multinomial')\n",
    "parameters = {\n",
    "    'vect__min_df': (2, 3, ), # features with freq lower than the given threshold will be dropped\n",
    "    'vect__ngram_range': ((1, 1), (1, 2), ), # unigrams or bigrams\n",
    "    'clf__C': np.linspace(0.2, 0.25, 6), # smaller C specify stronger regularization\n",
    "}\n",
    "\n",
    "result_LR = trainer(vect, clf, parameters, tweet_train, y_train, tweet_test, y_test)"
   ]
  },
  {
   "cell_type": "markdown",
   "metadata": {},
   "source": [
    "The accuracy based on the test set is 82.7%, which I think is pretty good. To further improve the accuracy, one can try to extract more features from the texts, for instance, word counts."
   ]
  },
  {
   "cell_type": "markdown",
   "metadata": {},
   "source": [
    "### ULMFiT Model\n",
    "\"[Universal Language Model Fine-tuning for Text Classification](https://arxiv.org/pdf/1801.06146v5.pdf)\" by Jeremy Howard and Sebastian Ruder, 2018. Useful online resources:\n",
    "-  [Full Online Documentation](https://docs.fast.ai/)\n",
    "-  [MOOC - Practical Deep Learning for Coders Lesson 4](https://course.fast.ai/videos/?lesson=4)"
   ]
  },
  {
   "cell_type": "code",
   "execution_count": 1371,
   "metadata": {},
   "outputs": [],
   "source": [
    "from fastai import *\n",
    "from fastai.text import *"
   ]
  },
  {
   "cell_type": "code",
   "execution_count": 1452,
   "metadata": {},
   "outputs": [],
   "source": [
    "cleantext = textPreprocessing()\n",
    "df['text_ulmfit'] = cleantext.apply_ulmfit(df['text'])"
   ]
  },
  {
   "cell_type": "code",
   "execution_count": 1453,
   "metadata": {},
   "outputs": [],
   "source": [
    "train, test = train_test_split(df[['airline_sentiment', 'text_ulmfit']], test_size = 0.2, random_state = 1)\n",
    "train, valid = train_test_split(train, test_size = 0.2, random_state = 1)\n",
    "# Language model data\n",
    "data_lm = TextLMDataBunch.from_df(path = \"\", train_df = train, valid_df = valid, test_df = test)\n",
    "# Classifier model data\n",
    "data_clas = TextClasDataBunch.from_df(path = \"\", train_df = train, valid_df = valid, test_df = test, vocab=data_lm.vocab)"
   ]
  },
  {
   "cell_type": "code",
   "execution_count": 1454,
   "metadata": {},
   "outputs": [
    {
     "data": {
      "text/html": [
       "<table>  <col width='90%'>  <col width='10%'>  <tr>\n",
       "    <th>text</th>\n",
       "    <th>target</th>\n",
       "  </tr>\n",
       "  <tr>\n",
       "    <th>xxbos @southwestair i had to travel to savannah , ga , once again , on an airline i do n't \" luv \" . when r u going to fly me to savannah ? pl xxrep 4 e ase xxrep 4 !</th>\n",
       "    <th>neutral</th>\n",
       "  </tr>\n",
       "  <tr>\n",
       "    <th>xxbos @united says @usairways is the final carrier . us air does nt have it . i want my bag ! ! ! not a claim not an i m sorry . i want my clothes ! !</th>\n",
       "    <th>negative</th>\n",
       "  </tr>\n",
       "  <tr>\n",
       "    <th>xxbos @jetblue need your help . i 'm moving to dc & & i want to book a one way fare on your website . it wo n't seem to let me . am i missing something ?</th>\n",
       "    <th>negative</th>\n",
       "  </tr>\n",
       "  <tr>\n",
       "    <th>xxbos @americanair poor experience day at ord xxunk . emp . w / cust . waiting . asked to speak w / supervisor . told min . in a mtg ! ! what ? ! ? !</th>\n",
       "    <th>negative</th>\n",
       "  </tr>\n",
       "  <tr>\n",
       "    <th>xxbos @united she clappinghands wo n't clappinghands be clappinghands at clappinghands my clappinghands wedding clappinghands . this is an xxunk xxunk . there 's no reflight booking problems . how can we be xxunk for this ?</th>\n",
       "    <th>negative</th>\n",
       "  </tr>\n",
       "</table>\n"
      ],
      "text/plain": [
       "<IPython.core.display.HTML object>"
      ]
     },
     "metadata": {},
     "output_type": "display_data"
    }
   ],
   "source": [
    "data_clas.show_batch()"
   ]
  },
  {
   "cell_type": "markdown",
   "metadata": {},
   "source": [
    "#### Fine-tuning Language Model"
   ]
  },
  {
   "cell_type": "code",
   "execution_count": 1455,
   "metadata": {},
   "outputs": [],
   "source": [
    "learn = language_model_learner(data_lm, AWD_LSTM, pretrained=True, drop_mult=0.5) # decrease drop_mult if underfitting\n",
    "# check https://docs.fast.ai/text.learner.html"
   ]
  },
  {
   "cell_type": "code",
   "execution_count": 1456,
   "metadata": {},
   "outputs": [
    {
     "data": {
      "text/html": [],
      "text/plain": [
       "<IPython.core.display.HTML object>"
      ]
     },
     "metadata": {},
     "output_type": "display_data"
    },
    {
     "name": "stdout",
     "output_type": "stream",
     "text": [
      "LR Finder is complete, type {learner_name}.recorder.plot() to see the graph.\n"
     ]
    }
   ],
   "source": [
    "learn.lr_find()"
   ]
  },
  {
   "cell_type": "code",
   "execution_count": 1457,
   "metadata": {},
   "outputs": [
    {
     "name": "stdout",
     "output_type": "stream",
     "text": [
      "Min numerical gradient: 8.32E-02\n"
     ]
    },
    {
     "data": {
      "image/png": "[encoded data removed]",
      "text/plain": [
       "<Figure size 432x288 with 1 Axes>"
      ]
     },
     "metadata": {},
     "output_type": "display_data"
    }
   ],
   "source": [
    "learn.recorder.plot()"
   ]
  },
  {
   "cell_type": "markdown",
   "metadata": {},
   "source": [
    "Optimal learning rate roughly between 1e-2 and 5e-1. I'll use 1e-2 below."
   ]
  },
  {
   "cell_type": "code",
   "execution_count": 1434,
   "metadata": {},
   "outputs": [
    {
     "data": {
      "text/html": [
       "Total time: 07:20 <p><table style='width:300px; margin-bottom:10px'>\n",
       "  <tr>\n",
       "    <th>epoch</th>\n",
       "    <th>train_loss</th>\n",
       "    <th>valid_loss</th>\n",
       "    <th>accuracy</th>\n",
       "  </tr>\n",
       "  <tr>\n",
       "    <th>1</th>\n",
       "    <th>4.845295</th>\n",
       "    <th>4.450393</th>\n",
       "    <th>0.212147</th>\n",
       "  </tr>\n",
       "</table>\n"
      ],
      "text/plain": [
       "<IPython.core.display.HTML object>"
      ]
     },
     "metadata": {},
     "output_type": "display_data"
    }
   ],
   "source": [
    "learn.fit_one_cycle(1, 1e-2)\n",
    "# Best: 0.2316\n",
    "# 4e-1: 0.17; 1e-1:0.19; drop mom: 0.20; 1e-2: 0.2006; preprocess & -1: 0.2020; -2: 21.35%; remain digits: 16.07%\n",
    "# remove digits & puncts: 14.14%; 0.1 test set: 16.50; decrease drop_mult to 0.3: 17%"
   ]
  },
  {
   "cell_type": "markdown",
   "metadata": {},
   "source": [
    "Note that accuracy is calculated on the validation set."
   ]
  },
  {
   "cell_type": "code",
   "execution_count": 1435,
   "metadata": {},
   "outputs": [
    {
     "data": {
      "text/html": [
       "Total time: 2:14:12 <p><table style='width:300px; margin-bottom:10px'>\n",
       "  <tr>\n",
       "    <th>epoch</th>\n",
       "    <th>train_loss</th>\n",
       "    <th>valid_loss</th>\n",
       "    <th>accuracy</th>\n",
       "  </tr>\n",
       "  <tr>\n",
       "    <th>1</th>\n",
       "    <th>4.536512</th>\n",
       "    <th>4.342865</th>\n",
       "    <th>0.222266</th>\n",
       "  </tr>\n",
       "  <tr>\n",
       "    <th>2</th>\n",
       "    <th>4.419868</th>\n",
       "    <th>4.228643</th>\n",
       "    <th>0.234896</th>\n",
       "  </tr>\n",
       "  <tr>\n",
       "    <th>3</th>\n",
       "    <th>4.298840</th>\n",
       "    <th>4.145951</th>\n",
       "    <th>0.242299</th>\n",
       "  </tr>\n",
       "  <tr>\n",
       "    <th>4</th>\n",
       "    <th>4.172734</th>\n",
       "    <th>4.108502</th>\n",
       "    <th>0.246112</th>\n",
       "  </tr>\n",
       "  <tr>\n",
       "    <th>5</th>\n",
       "    <th>4.037139</th>\n",
       "    <th>4.061037</th>\n",
       "    <th>0.248586</th>\n",
       "  </tr>\n",
       "  <tr>\n",
       "    <th>6</th>\n",
       "    <th>3.906740</th>\n",
       "    <th>4.047737</th>\n",
       "    <th>0.250223</th>\n",
       "  </tr>\n",
       "  <tr>\n",
       "    <th>7</th>\n",
       "    <th>3.792644</th>\n",
       "    <th>4.043410</th>\n",
       "    <th>0.251283</th>\n",
       "  </tr>\n",
       "  <tr>\n",
       "    <th>8</th>\n",
       "    <th>3.698390</th>\n",
       "    <th>4.044888</th>\n",
       "    <th>0.252046</th>\n",
       "  </tr>\n",
       "  <tr>\n",
       "    <th>9</th>\n",
       "    <th>3.640120</th>\n",
       "    <th>4.046188</th>\n",
       "    <th>0.251897</th>\n",
       "  </tr>\n",
       "  <tr>\n",
       "    <th>10</th>\n",
       "    <th>3.599975</th>\n",
       "    <th>4.045992</th>\n",
       "    <th>0.251563</th>\n",
       "  </tr>\n",
       "</table>\n"
      ],
      "text/plain": [
       "<IPython.core.display.HTML object>"
      ]
     },
     "metadata": {},
     "output_type": "display_data"
    }
   ],
   "source": [
    "learn.unfreeze()\n",
    "learn.fit_one_cycle(10, 1e-3)"
   ]
  },
  {
   "cell_type": "code",
   "execution_count": 1436,
   "metadata": {},
   "outputs": [],
   "source": [
    "learn.save_encoder('ft_enc')"
   ]
  },
  {
   "cell_type": "markdown",
   "metadata": {},
   "source": [
    "#### Training Classifier"
   ]
  },
  {
   "cell_type": "code",
   "execution_count": 1437,
   "metadata": {},
   "outputs": [],
   "source": [
    "learn = text_classifier_learner(data_clas, AWD_LSTM, drop_mult=0.5)\n",
    "learn.load_encoder('ft_enc')\n",
    "learn.freeze()"
   ]
  },
  {
   "cell_type": "code",
   "execution_count": 1438,
   "metadata": {},
   "outputs": [
    {
     "data": {
      "text/html": [],
      "text/plain": [
       "<IPython.core.display.HTML object>"
      ]
     },
     "metadata": {},
     "output_type": "display_data"
    },
    {
     "name": "stdout",
     "output_type": "stream",
     "text": [
      "LR Finder is complete, type {learner_name}.recorder.plot() to see the graph.\n"
     ]
    }
   ],
   "source": [
    "learn.lr_find()"
   ]
  },
  {
   "cell_type": "code",
   "execution_count": 1439,
   "metadata": {},
   "outputs": [
    {
     "name": "stdout",
     "output_type": "stream",
     "text": [
      "Min numerical gradient: 1.45E-01\n"
     ]
    },
    {
     "data": {
      "image/png": "[encoded data removed]",
      "text/plain": [
       "<Figure size 432x288 with 1 Axes>"
      ]
     },
     "metadata": {},
     "output_type": "display_data"
    }
   ],
   "source": [
    "learn.recorder.plot()"
   ]
  },
  {
   "cell_type": "code",
   "execution_count": 1440,
   "metadata": {},
   "outputs": [
    {
     "data": {
      "text/html": [
       "Total time: 04:26 <p><table style='width:300px; margin-bottom:10px'>\n",
       "  <tr>\n",
       "    <th>epoch</th>\n",
       "    <th>train_loss</th>\n",
       "    <th>valid_loss</th>\n",
       "    <th>accuracy</th>\n",
       "  </tr>\n",
       "  <tr>\n",
       "    <th>1</th>\n",
       "    <th>0.722841</th>\n",
       "    <th>0.585162</th>\n",
       "    <th>0.751174</th>\n",
       "  </tr>\n",
       "</table>\n"
      ],
      "text/plain": [
       "<IPython.core.display.HTML object>"
      ]
     },
     "metadata": {},
     "output_type": "display_data"
    }
   ],
   "source": [
    "learn.fit_one_cycle(1, 2e-2)"
   ]
  },
  {
   "cell_type": "code",
   "execution_count": 1441,
   "metadata": {},
   "outputs": [
    {
     "data": {
      "text/html": [
       "Total time: 05:35 <p><table style='width:300px; margin-bottom:10px'>\n",
       "  <tr>\n",
       "    <th>epoch</th>\n",
       "    <th>train_loss</th>\n",
       "    <th>valid_loss</th>\n",
       "    <th>accuracy</th>\n",
       "  </tr>\n",
       "  <tr>\n",
       "    <th>1</th>\n",
       "    <th>0.659375</th>\n",
       "    <th>0.531480</th>\n",
       "    <th>0.786598</th>\n",
       "  </tr>\n",
       "</table>\n"
      ],
      "text/plain": [
       "<IPython.core.display.HTML object>"
      ]
     },
     "metadata": {},
     "output_type": "display_data"
    }
   ],
   "source": [
    "learn.freeze_to(-2)\n",
    "learn.fit_one_cycle(1, slice(1e-2/(2.6**4), 1e-2))"
   ]
  },
  {
   "cell_type": "code",
   "execution_count": 1442,
   "metadata": {},
   "outputs": [
    {
     "data": {
      "text/html": [
       "Total time: 11:09 <p><table style='width:300px; margin-bottom:10px'>\n",
       "  <tr>\n",
       "    <th>epoch</th>\n",
       "    <th>train_loss</th>\n",
       "    <th>valid_loss</th>\n",
       "    <th>accuracy</th>\n",
       "  </tr>\n",
       "  <tr>\n",
       "    <th>1</th>\n",
       "    <th>0.595004</th>\n",
       "    <th>0.492218</th>\n",
       "    <th>0.802817</th>\n",
       "  </tr>\n",
       "</table>\n"
      ],
      "text/plain": [
       "<IPython.core.display.HTML object>"
      ]
     },
     "metadata": {},
     "output_type": "display_data"
    }
   ],
   "source": [
    "learn.freeze_to(-3)\n",
    "learn.fit_one_cycle(1, slice(5e-3/(2.6**4), 5e-3))"
   ]
  },
  {
   "cell_type": "code",
   "execution_count": 1443,
   "metadata": {},
   "outputs": [
    {
     "data": {
      "text/html": [
       "Total time: 1:08:47 <p><table style='width:300px; margin-bottom:10px'>\n",
       "  <tr>\n",
       "    <th>epoch</th>\n",
       "    <th>train_loss</th>\n",
       "    <th>valid_loss</th>\n",
       "    <th>accuracy</th>\n",
       "  </tr>\n",
       "  <tr>\n",
       "    <th>1</th>\n",
       "    <th>0.590371</th>\n",
       "    <th>0.501666</th>\n",
       "    <th>0.801963</th>\n",
       "  </tr>\n",
       "  <tr>\n",
       "    <th>2</th>\n",
       "    <th>0.572123</th>\n",
       "    <th>0.497960</th>\n",
       "    <th>0.806231</th>\n",
       "  </tr>\n",
       "  <tr>\n",
       "    <th>3</th>\n",
       "    <th>0.538678</th>\n",
       "    <th>0.491926</th>\n",
       "    <th>0.807939</th>\n",
       "  </tr>\n",
       "  <tr>\n",
       "    <th>4</th>\n",
       "    <th>0.508636</th>\n",
       "    <th>0.482318</th>\n",
       "    <th>0.812633</th>\n",
       "  </tr>\n",
       "</table>\n"
      ],
      "text/plain": [
       "<IPython.core.display.HTML object>"
      ]
     },
     "metadata": {},
     "output_type": "display_data"
    }
   ],
   "source": [
    "learn.unfreeze()\n",
    "learn.fit_one_cycle(4, slice(1e-3/(2.6**4), 1e-3))"
   ]
  },
  {
   "cell_type": "markdown",
   "metadata": {},
   "source": [
    "Note that the accuracy 81.3% is based on validation set."
   ]
  },
  {
   "cell_type": "code",
   "execution_count": 1447,
   "metadata": {},
   "outputs": [
    {
     "name": "stdout",
     "output_type": "stream",
     "text": [
      "accuracy for the test set is: 67.7%\n"
     ]
    }
   ],
   "source": [
    "## get accuracy for the test set\n",
    "probs, targets = learn.get_preds(ds_type = DatasetType.Test)\n",
    "preds = np.argmax(probs, axis = 1)\n",
    "accuracy = (preds == targets).float().mean()\n",
    "print('accuracy for the test set is: '+'{:.1%}'.format(accuracy))"
   ]
  },
  {
   "cell_type": "code",
   "execution_count": 1449,
   "metadata": {},
   "outputs": [
    {
     "data": {
      "text/html": [
       "<table>  <col width='85%'>  <col width='7.5%'>  <col width='7.5%'>  <tr>\n",
       "    <th>text</th>\n",
       "    <th>target</th>\n",
       "    <th>prediction</th>\n",
       "  </tr>\n",
       "  <tr>\n",
       "    <th>xxbos @jetblue i redheart ️ jetblue but i was on flt from fll to sfo . xxunk off was over hr late flight , div to phx & & got in hrs late flight . what will be done ?</th>\n",
       "    <th>negative</th>\n",
       "    <th>negative</th>\n",
       "  </tr>\n",
       "  <tr>\n",
       "    <th>xxbos @united so they changed depart from : to : pm & & it is now : pm & & the capt . just got off the plane to find a xxunk , pm my ass ! ! !</th>\n",
       "    <th>negative</th>\n",
       "    <th>negative</th>\n",
       "  </tr>\n",
       "  <tr>\n",
       "    <th>xxbos @united where is my bag ? ? i 'm in mexico about to go xxunk a house & & my suitcase never got on my flight from cle w me . i need it . san m</th>\n",
       "    <th>negative</th>\n",
       "    <th>negative</th>\n",
       "  </tr>\n",
       "  <tr>\n",
       "    <th>xxbos @jetblue big shoutout to the crews on bos > jfk & & jfk > roc , & & gate crews at c bos & & jfk . long day of delays made better by them !</th>\n",
       "    <th>positive</th>\n",
       "    <th>positive</th>\n",
       "  </tr>\n",
       "  <tr>\n",
       "    <th>xxbos @jetblue no , it 's weird ! ! i picked other cities just to xxunk , those worked ... not the one i want . works on phone though , so i 'll use that .</th>\n",
       "    <th>neutral</th>\n",
       "    <th>negative</th>\n",
       "  </tr>\n",
       "  <tr>\n",
       "    <th>xxbos @jetblue i would go to las vegas . it is xxunk and i go there every year and i fly with you guys vegas is xxunk & & so much to do there . palmtree</th>\n",
       "    <th>positive</th>\n",
       "    <th>neutral</th>\n",
       "  </tr>\n",
       "  <tr>\n",
       "    <th>xxbos @united i had n't filed a refund claim as i was told there was no charge by your dm . this is xxunk by my bank , hence why i would like ( / )</th>\n",
       "    <th>negative</th>\n",
       "    <th>negative</th>\n",
       "  </tr>\n",
       "  <tr>\n",
       "    <th>xxbos @jetblue c'mon now . my flight 's delayed a xxrep 5 n d you ca n't give me a pick ? ! ? i 'm about to tweet at @united or @delta xxrep 7 .</th>\n",
       "    <th>negative</th>\n",
       "    <th>negative</th>\n",
       "  </tr>\n",
       "  <tr>\n",
       "    <th>xxbos @americanair you did n't call , did you . try it , and then you 'll understand . it 's not possible to reach an agent , i do n't know what else to do</th>\n",
       "    <th>negative</th>\n",
       "    <th>negative</th>\n",
       "  </tr>\n",
       "  <tr>\n",
       "    <th>xxbos @usairways please xxunk my next flight for me ! i 'm waiting on a bus to get me off one plane so i can run to the other . it leaves in two min !</th>\n",
       "    <th>negative</th>\n",
       "    <th>negative</th>\n",
       "  </tr>\n",
       "</table>\n"
      ],
      "text/plain": [
       "<IPython.core.display.HTML object>"
      ]
     },
     "metadata": {},
     "output_type": "display_data"
    }
   ],
   "source": [
    "## Show 10 samples of predictions\n",
    "learn.show_results(rows=10)"
   ]
  },
  {
   "cell_type": "markdown",
   "metadata": {},
   "source": [
    "## Conclusions & Future Works\n",
    "\n",
    "Conclusion:\n",
    "-  Based on the test set, Logistic Regression (82.7%) achieves higher accuracy rate than ULMFiT (67.7%) model.\n",
    "\n",
    "Future works:\n",
    "-  Improve accuracy of ULMFiT model\n",
    "-  Add numeric features such as word counts of tweets as additional features\n",
    "-  Add bigram of words such as \"customer service\" to take into account the sequential relationship between words. Can probably be done via NLTK"
   ]
  }
 ],
 "metadata": {
  "kernelspec": {
   "display_name": "Python 3",
   "language": "python",
   "name": "python3"
  },
  "language_info": {
   "codemirror_mode": {
    "name": "ipython",
    "version": 3
   },
   "file_extension": ".py",
   "mimetype": "text/x-python",
   "name": "python",
   "nbconvert_exporter": "python",
   "pygments_lexer": "ipython3",
   "version": "3.6.5"
  }
 },
 "nbformat": 4,
 "nbformat_minor": 2
}
